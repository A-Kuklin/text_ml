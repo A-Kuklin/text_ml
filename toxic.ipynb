{
 "cells": [
  {
   "cell_type": "markdown",
   "metadata": {},
   "source": [
    "# Проект для «Викишоп»"
   ]
  },
  {
   "cell_type": "markdown",
   "metadata": {},
   "source": [
    "Интернет-магазин «Викишоп» запускает новый сервис.  \n",
    "Теперь пользователи могут редактировать и дополнять описания товаров, как в вики-сообществах.  \n",
    "То есть клиенты предлагают свои правки и комментируют изменения других.  \n",
    "Магазину нужен инструмент, который будет искать токсичные комментарии и отправлять их на модерацию.\n",
    "\n",
    "Обучите модель классифицировать комментарии на позитивные и негативные.  \n",
    "В вашем распоряжении набор данных с разметкой о токсичности правок.\n",
    "\n",
    "**Постройте модель со значением метрики качества *F1* не меньше 0.75.**\n",
    "\n",
    "**Инструкция по выполнению проекта**\n",
    "\n",
    "1. Загрузите и подготовьте данные.\n",
    "2. Обучите разные модели. \n",
    "3. Сделайте выводы.\n",
    "\n",
    "Для выполнения проекта применять *BERT* необязательно, но вы можете попробовать.\n",
    "\n",
    "**Описание данных**\n",
    "\n",
    "Данные находятся в файле `toxic_comments.csv`.  \n",
    "Столбец *text* в нём содержит текст комментария, а *toxic* — целевой признак."
   ]
  },
  {
   "cell_type": "markdown",
   "metadata": {},
   "source": [
    "## Подготовка"
   ]
  },
  {
   "cell_type": "code",
   "execution_count": 1,
   "metadata": {},
   "outputs": [],
   "source": [
    "import re\n",
    "\n",
    "import nltk\n",
    "import pandas as pd\n",
    "from catboost import CatBoostClassifier\n",
    "from lightgbm import LGBMClassifier\n",
    "from nltk.corpus import stopwords\n",
    "from nltk.stem import WordNetLemmatizer\n",
    "from sklearn.feature_extraction.text import TfidfVectorizer\n",
    "from sklearn.linear_model import LogisticRegression\n",
    "from sklearn.metrics import confusion_matrix, f1_score\n",
    "from sklearn.model_selection import GridSearchCV, train_test_split\n",
    "from tqdm.notebook import tqdm"
   ]
  },
  {
   "cell_type": "code",
   "execution_count": 2,
   "metadata": {
    "pycharm": {
     "name": "#%%\n"
    }
   },
   "outputs": [
    {
     "name": "stderr",
     "output_type": "stream",
     "text": [
      "[nltk_data] Downloading package punkt to C:\\Users\\Александр\n",
      "[nltk_data]     Куклин\\AppData\\Roaming\\nltk_data...\n",
      "[nltk_data]   Package punkt is already up-to-date!\n",
      "[nltk_data] Downloading package wordnet to C:\\Users\\Александр\n",
      "[nltk_data]     Куклин\\AppData\\Roaming\\nltk_data...\n",
      "[nltk_data]   Package wordnet is already up-to-date!\n",
      "[nltk_data] Downloading package omw-1.4 to C:\\Users\\Александр\n",
      "[nltk_data]     Куклин\\AppData\\Roaming\\nltk_data...\n",
      "[nltk_data]   Package omw-1.4 is already up-to-date!\n"
     ]
    }
   ],
   "source": [
    "nltk.download('punkt')\n",
    "nltk.download('wordnet')\n",
    "nltk.download('omw-1.4')\n",
    "tqdm.pandas()"
   ]
  },
  {
   "cell_type": "markdown",
   "metadata": {
    "pycharm": {
     "name": "#%% md\n"
    }
   },
   "source": [
    "### Загрузка и первичный анализ"
   ]
  },
  {
   "cell_type": "code",
   "execution_count": 3,
   "metadata": {
    "pycharm": {
     "name": "#%%\n"
    }
   },
   "outputs": [],
   "source": [
    "data = pd.read_csv('toxic_comments.csv')"
   ]
  },
  {
   "cell_type": "code",
   "execution_count": 4,
   "metadata": {
    "pycharm": {
     "name": "#%%\n"
    }
   },
   "outputs": [
    {
     "data": {
      "text/plain": [
       "\"Explanation\\nWhy the edits made under my username Hardcore Metallica Fan were reverted? They weren't vandalisms, just closure on some GAs after I voted at New York Dolls FAC. And please don't remove the template from the talk page since I'm retired now.89.205.38.27\""
      ]
     },
     "execution_count": 4,
     "metadata": {},
     "output_type": "execute_result"
    }
   ],
   "source": [
    "data.head()['text'][0]"
   ]
  },
  {
   "cell_type": "code",
   "execution_count": 5,
   "metadata": {
    "pycharm": {
     "name": "#%%\n"
    }
   },
   "outputs": [
    {
     "name": "stdout",
     "output_type": "stream",
     "text": [
      "<class 'pandas.core.frame.DataFrame'>\n",
      "RangeIndex: 159571 entries, 0 to 159570\n",
      "Data columns (total 2 columns):\n",
      " #   Column  Non-Null Count   Dtype \n",
      "---  ------  --------------   ----- \n",
      " 0   text    159571 non-null  object\n",
      " 1   toxic   159571 non-null  int64 \n",
      "dtypes: int64(1), object(1)\n",
      "memory usage: 2.4+ MB\n"
     ]
    }
   ],
   "source": [
    "data.info()"
   ]
  },
  {
   "cell_type": "code",
   "execution_count": 6,
   "metadata": {
    "pycharm": {
     "name": "#%%\n"
    }
   },
   "outputs": [
    {
     "data": {
      "text/plain": [
       "0"
      ]
     },
     "execution_count": 6,
     "metadata": {},
     "output_type": "execute_result"
    }
   ],
   "source": [
    "data.duplicated().sum()"
   ]
  },
  {
   "cell_type": "code",
   "execution_count": 7,
   "metadata": {
    "pycharm": {
     "name": "#%%\n"
    }
   },
   "outputs": [
    {
     "data": {
      "text/plain": [
       "0    143346\n",
       "1     16225\n",
       "Name: toxic, dtype: int64"
      ]
     },
     "execution_count": 7,
     "metadata": {},
     "output_type": "execute_result"
    }
   ],
   "source": [
    "data['toxic'].value_counts()"
   ]
  },
  {
   "cell_type": "markdown",
   "metadata": {
    "pycharm": {
     "name": "#%% md\n"
    }
   },
   "source": [
    "### Лемматизация и очистка текста\n",
    "\n",
    "Лучший аналог учебного `pymystem3` — `WordNetLemmatizer` из `nltk` (подсказка из `Slack`)."
   ]
  },
  {
   "cell_type": "code",
   "execution_count": 8,
   "metadata": {
    "pycharm": {
     "name": "#%%\n"
    }
   },
   "outputs": [],
   "source": [
    "def clear_text(text):\n",
    "    text = re.sub(r\"[^a-zA-Z']\", ' ', text)\n",
    "    return ' '.join(text.split())\n",
    "\n",
    "def lemmatize(text):\n",
    "    m = WordNetLemmatizer()\n",
    "    txt_list =  nltk.word_tokenize(text)\n",
    "    return ' '.join([m.lemmatize(word) for word in txt_list])"
   ]
  },
  {
   "cell_type": "code",
   "execution_count": 9,
   "metadata": {
    "pycharm": {
     "name": "#%%\n"
    }
   },
   "outputs": [
    {
     "data": {
      "application/vnd.jupyter.widget-view+json": {
       "model_id": "071f930a7941487bb5df22c9df7731ce",
       "version_major": 2,
       "version_minor": 0
      },
      "text/plain": [
       "  0%|          | 0/159571 [00:00<?, ?it/s]"
      ]
     },
     "metadata": {},
     "output_type": "display_data"
    }
   ],
   "source": [
    "data['lemm_text'] = data['text'].progress_apply(lambda x: lemmatize(clear_text(x)))"
   ]
  },
  {
   "cell_type": "code",
   "execution_count": 10,
   "metadata": {
    "pycharm": {
     "name": "#%%\n"
    }
   },
   "outputs": [
    {
     "data": {
      "text/html": [
       "<div>\n",
       "<style scoped>\n",
       "    .dataframe tbody tr th:only-of-type {\n",
       "        vertical-align: middle;\n",
       "    }\n",
       "\n",
       "    .dataframe tbody tr th {\n",
       "        vertical-align: top;\n",
       "    }\n",
       "\n",
       "    .dataframe thead th {\n",
       "        text-align: right;\n",
       "    }\n",
       "</style>\n",
       "<table border=\"1\" class=\"dataframe\">\n",
       "  <thead>\n",
       "    <tr style=\"text-align: right;\">\n",
       "      <th></th>\n",
       "      <th>text</th>\n",
       "      <th>toxic</th>\n",
       "      <th>lemm_text</th>\n",
       "    </tr>\n",
       "  </thead>\n",
       "  <tbody>\n",
       "    <tr>\n",
       "      <th>0</th>\n",
       "      <td>Explanation\\nWhy the edits made under my usern...</td>\n",
       "      <td>0</td>\n",
       "      <td>Explanation Why the edits made under my userna...</td>\n",
       "    </tr>\n",
       "    <tr>\n",
       "      <th>1</th>\n",
       "      <td>D'aww! He matches this background colour I'm s...</td>\n",
       "      <td>0</td>\n",
       "      <td>D'aww He match this background colour I 'm see...</td>\n",
       "    </tr>\n",
       "    <tr>\n",
       "      <th>2</th>\n",
       "      <td>Hey man, I'm really not trying to edit war. It...</td>\n",
       "      <td>0</td>\n",
       "      <td>Hey man I 'm really not trying to edit war It ...</td>\n",
       "    </tr>\n",
       "    <tr>\n",
       "      <th>3</th>\n",
       "      <td>\"\\nMore\\nI can't make any real suggestions on ...</td>\n",
       "      <td>0</td>\n",
       "      <td>More I ca n't make any real suggestion on impr...</td>\n",
       "    </tr>\n",
       "    <tr>\n",
       "      <th>4</th>\n",
       "      <td>You, sir, are my hero. Any chance you remember...</td>\n",
       "      <td>0</td>\n",
       "      <td>You sir are my hero Any chance you remember wh...</td>\n",
       "    </tr>\n",
       "  </tbody>\n",
       "</table>\n",
       "</div>"
      ],
      "text/plain": [
       "                                                text  toxic  \\\n",
       "0  Explanation\\nWhy the edits made under my usern...      0   \n",
       "1  D'aww! He matches this background colour I'm s...      0   \n",
       "2  Hey man, I'm really not trying to edit war. It...      0   \n",
       "3  \"\\nMore\\nI can't make any real suggestions on ...      0   \n",
       "4  You, sir, are my hero. Any chance you remember...      0   \n",
       "\n",
       "                                           lemm_text  \n",
       "0  Explanation Why the edits made under my userna...  \n",
       "1  D'aww He match this background colour I 'm see...  \n",
       "2  Hey man I 'm really not trying to edit war It ...  \n",
       "3  More I ca n't make any real suggestion on impr...  \n",
       "4  You sir are my hero Any chance you remember wh...  "
      ]
     },
     "execution_count": 10,
     "metadata": {},
     "output_type": "execute_result"
    }
   ],
   "source": [
    "data.head()"
   ]
  },
  {
   "cell_type": "markdown",
   "metadata": {
    "pycharm": {
     "name": "#%% md\n"
    }
   },
   "source": [
    "### Подготовка выборок"
   ]
  },
  {
   "cell_type": "code",
   "execution_count": 11,
   "metadata": {
    "pycharm": {
     "name": "#%%\n"
    }
   },
   "outputs": [
    {
     "name": "stdout",
     "output_type": "stream",
     "text": [
      "Выборка разделена в пропорциях:\n",
      "90% — тренировочная;\n",
      "10% — тестовая;\n",
      "\n"
     ]
    }
   ],
   "source": [
    "train, test = train_test_split(data, test_size=0.1, random_state=12345)\n",
    "\n",
    "target_train = train['toxic']\n",
    "features_train = train['lemm_text']\n",
    "\n",
    "target_test = test['toxic']\n",
    "features_test = test['lemm_text']\n",
    "\n",
    "print(\n",
    "    f'Выборка разделена в пропорциях:\\n'\n",
    "    f'{(len(features_train)/len(data)):.0%} — тренировочная;\\n'\n",
    "    f'{(len(features_test)/len(data)):.0%} — тестовая;\\n'\n",
    ")"
   ]
  },
  {
   "cell_type": "code",
   "execution_count": 12,
   "metadata": {
    "pycharm": {
     "name": "#%%\n"
    }
   },
   "outputs": [
    {
     "data": {
      "application/vnd.jupyter.widget-view+json": {
       "model_id": "fcfa4cd96a5d42e1831f7a3f0dafd079",
       "version_major": 2,
       "version_minor": 0
      },
      "text/plain": [
       "  0%|          | 0/143613 [00:00<?, ?it/s]"
      ]
     },
     "metadata": {},
     "output_type": "display_data"
    }
   ],
   "source": [
    "stopwords_ = set(stopwords.words('english'))\n",
    "count_tf_idf = TfidfVectorizer(stop_words=stopwords_)\n",
    "tf_idf = count_tf_idf.fit_transform(tqdm(features_train))"
   ]
  },
  {
   "cell_type": "code",
   "execution_count": 13,
   "metadata": {
    "pycharm": {
     "name": "#%%\n"
    }
   },
   "outputs": [
    {
     "name": "stdout",
     "output_type": "stream",
     "text": [
      "Размер матрицы: (143613, 154645)\n"
     ]
    }
   ],
   "source": [
    "print(\"Размер матрицы:\", tf_idf.shape)"
   ]
  },
  {
   "cell_type": "code",
   "execution_count": 14,
   "metadata": {
    "pycharm": {
     "name": "#%%\n"
    }
   },
   "outputs": [
    {
     "name": "stdout",
     "output_type": "stream",
     "text": [
      "Размер матрицы tf-idf_test: (15958, 154645)\n"
     ]
    }
   ],
   "source": [
    "tf_idf_test = count_tf_idf.transform(features_test)\n",
    "print(\"Размер матрицы tf-idf_test:\", tf_idf_test.shape)"
   ]
  },
  {
   "cell_type": "markdown",
   "metadata": {},
   "source": [
    "***\n",
    "### Вывод\n",
    "- В комментариях нет дубликатов.\n",
    "- В текстах комментариев встречаются «мусорные» символы, которые нужно убрать.\n",
    "- Данные не сбалансированы по целевому признаку `toxic`.\n",
    "- Провёл лемматизацию и очистил текст от лишних символов.\n",
    "- Подготовил выборки. <br><br>\n",
    "***"
   ]
  },
  {
   "cell_type": "markdown",
   "metadata": {},
   "source": [
    "## Обучение"
   ]
  },
  {
   "cell_type": "markdown",
   "metadata": {},
   "source": [
    "### Модель `Логистическя регрессия`"
   ]
  },
  {
   "cell_type": "code",
   "execution_count": 15,
   "metadata": {
    "pycharm": {
     "name": "#%%\n"
    }
   },
   "outputs": [],
   "source": [
    "model = LogisticRegression(solver='liblinear', class_weight = 'balanced', random_state=12345)\n",
    "parameters = {\n",
    "    'C': [10],  # были варианты: 1, 5, 15\n",
    "    'penalty': ['l2'],  # был вариант: 'l1'\n",
    "    'max_iter': [100],  # были варианты: 50, 200, 250\n",
    "}\n",
    "lin_grid = GridSearchCV(model, parameters, scoring='f1', cv=3)"
   ]
  },
  {
   "cell_type": "code",
   "execution_count": 16,
   "metadata": {
    "pycharm": {
     "name": "#%%\n"
    }
   },
   "outputs": [
    {
     "name": "stdout",
     "output_type": "stream",
     "text": [
      "Лучший показатель F1: 0.763\n"
     ]
    }
   ],
   "source": [
    "lin_grid.fit(tf_idf, target_train)\n",
    "lin_fit_score = lin_grid.best_score_\n",
    "print(f'Лучший показатель F1: {lin_fit_score:.3f}')"
   ]
  },
  {
   "cell_type": "markdown",
   "metadata": {},
   "source": [
    "### Модель `CatBoostClassifier`\n",
    "Пытался подобрать параметры для модели методом `grid_search`,  \n",
    "но подбор занимает крайне много времени, выставил параметры вручную, примерно.  \n",
    "\n",
    "Попробую протестировать модель и посмотреть на оценку.  "
   ]
  },
  {
   "cell_type": "code",
   "execution_count": 17,
   "metadata": {
    "pycharm": {
     "name": "#%%\n"
    }
   },
   "outputs": [
    {
     "data": {
      "text/plain": [
       "<catboost.core.CatBoostClassifier at 0x2a8e1935220>"
      ]
     },
     "execution_count": 17,
     "metadata": {},
     "output_type": "execute_result"
    }
   ],
   "source": [
    "cat_model = CatBoostClassifier(random_state=12345, verbose=False, eval_metric='F1', depth=6, learning_rate=0.5, iterations=200)\n",
    "cat_model.fit(tf_idf, target_train)"
   ]
  },
  {
   "cell_type": "markdown",
   "metadata": {},
   "source": [
    "### Модель `LGBMClassifier`"
   ]
  },
  {
   "cell_type": "code",
   "execution_count": 18,
   "metadata": {
    "pycharm": {
     "name": "#%%\n"
    }
   },
   "outputs": [],
   "source": [
    "model = LGBMClassifier(random_state=12345, class_weight='balanced')\n",
    "parameters = {\n",
    "    'max_depth': [-1],  # были варианты: 5, 8, 10\n",
    "    'num_leaves': [50],  # были варианты: 10, 50, 100\n",
    "    'learning_rate': [0.1],  # были варианты: 0.1, 0.5, 1\n",
    "    'n_estimators' : [1000],  # были варианты: 250, 650\n",
    "}\n",
    "lgbm_grid = GridSearchCV(model, parameters, scoring='f1', cv=3, n_jobs=-1)"
   ]
  },
  {
   "cell_type": "code",
   "execution_count": 19,
   "metadata": {
    "pycharm": {
     "name": "#%%\n"
    }
   },
   "outputs": [
    {
     "data": {
      "text/plain": [
       "GridSearchCV(cv=3,\n",
       "             estimator=LGBMClassifier(class_weight='balanced',\n",
       "                                      random_state=12345),\n",
       "             n_jobs=-1,\n",
       "             param_grid={'learning_rate': [0.1], 'max_depth': [-1],\n",
       "                         'n_estimators': [1000], 'num_leaves': [50]},\n",
       "             scoring='f1')"
      ]
     },
     "execution_count": 19,
     "metadata": {},
     "output_type": "execute_result"
    }
   ],
   "source": [
    "lgbm_grid.fit(tf_idf, target_train)"
   ]
  },
  {
   "cell_type": "code",
   "execution_count": 20,
   "metadata": {
    "pycharm": {
     "name": "#%%\n"
    }
   },
   "outputs": [
    {
     "name": "stdout",
     "output_type": "stream",
     "text": [
      "Лучший показатель F1: 0.768\n"
     ]
    }
   ],
   "source": [
    "lgbm_fit_score = lgbm_grid.best_score_\n",
    "print(\n",
    "    f'Лучший показатель F1: {lgbm_fit_score:.3f}'\n",
    ")"
   ]
  },
  {
   "cell_type": "markdown",
   "metadata": {
    "pycharm": {
     "name": "#%% md\n"
    }
   },
   "source": [
    "***\n",
    "### Вывод\n",
    "- Обучил три модели.\n",
    "- По модели `Логистическя регрессия` и `LGBMClassifier` удалось получить предварительный расчёт показателя `F1`,  \n",
    "    по модели `CatBoostClassifier` не получилось из-за очень долгого времени обработки. <br><br>\n",
    "***"
   ]
  },
  {
   "cell_type": "markdown",
   "metadata": {},
   "source": [
    "## Тестирование\n",
    "**Постройте модель со значением метрики качества F1 не меньше 0.75.**"
   ]
  },
  {
   "cell_type": "markdown",
   "metadata": {},
   "source": [
    "### Модель `Логистическя регрессия`"
   ]
  },
  {
   "cell_type": "code",
   "execution_count": 21,
   "metadata": {
    "pycharm": {
     "name": "#%%\n"
    }
   },
   "outputs": [
    {
     "name": "stdout",
     "output_type": "stream",
     "text": [
      "F1-score: 0.761\n",
      "Количество истинно отрицательных результатов: 13732\n",
      "Количество ложноотрицательных результатов: 298\n",
      "Количество истинно положительных результатов: 1368\n",
      "Количество ложноположительных результатов: 560\n",
      "\n"
     ]
    }
   ],
   "source": [
    "predictions = lin_grid.predict(tf_idf_test)\n",
    "lin_f1 = f1_score(target_test, predictions)\n",
    "lin_conf_mat = confusion_matrix(target_test, predictions)\n",
    "\n",
    "print(\n",
    "    f'F1-score: {lin_f1:.3f}\\n'\n",
    "    f'Количество истинно отрицательных результатов: {lin_conf_mat[0][0]}\\n'\n",
    "    f'Количество ложноотрицательных результатов: {lin_conf_mat[1][0]}\\n'\n",
    "    f'Количество истинно положительных результатов: {lin_conf_mat[1][1]}\\n'\n",
    "    f'Количество ложноположительных результатов: {lin_conf_mat[0][1]}\\n'\n",
    ")"
   ]
  },
  {
   "cell_type": "markdown",
   "metadata": {},
   "source": [
    "### Модель `CatBoostClassifier`"
   ]
  },
  {
   "cell_type": "code",
   "execution_count": 22,
   "metadata": {
    "pycharm": {
     "name": "#%%\n"
    }
   },
   "outputs": [
    {
     "name": "stdout",
     "output_type": "stream",
     "text": [
      "F1-score: 0.759\n",
      "Количество истинно отрицательных результатов: 14156\n",
      "Количество ложноотрицательных результатов: 565\n",
      "Количество истинно положительных результатов: 1101\n",
      "Количество ложноположительных результатов: 136\n",
      "\n"
     ]
    }
   ],
   "source": [
    "predictions = cat_model.predict(tf_idf_test)\n",
    "cat_f1 = f1_score(target_test, predictions)\n",
    "cat_conf_mat = confusion_matrix(target_test, predictions)\n",
    "\n",
    "print(\n",
    "    f'F1-score: {cat_f1:.3f}\\n'\n",
    "    f'Количество истинно отрицательных результатов: {cat_conf_mat[0][0]}\\n'\n",
    "    f'Количество ложноотрицательных результатов: {cat_conf_mat[1][0]}\\n'\n",
    "    f'Количество истинно положительных результатов: {cat_conf_mat[1][1]}\\n'\n",
    "    f'Количество ложноположительных результатов: {cat_conf_mat[0][1]}\\n'\n",
    ")"
   ]
  },
  {
   "cell_type": "markdown",
   "metadata": {},
   "source": [
    "### Модель `LGBMClassifier`"
   ]
  },
  {
   "cell_type": "code",
   "execution_count": 23,
   "metadata": {
    "pycharm": {
     "name": "#%%\n"
    }
   },
   "outputs": [
    {
     "name": "stdout",
     "output_type": "stream",
     "text": [
      "F1-score: 0.760\n",
      "Количество истинно отрицательных результатов: 13855\n",
      "Количество ложноотрицательных результатов: 377\n",
      "Количество истинно положительных результатов: 1289\n",
      "Количество ложноположительных результатов: 437\n",
      "\n"
     ]
    }
   ],
   "source": [
    "predictions = lgbm_grid.predict(tf_idf_test)\n",
    "lgbm_f1 = f1_score(target_test, predictions)\n",
    "lgbm_conf_mat = confusion_matrix(target_test, predictions)\n",
    "\n",
    "print(\n",
    "    f'F1-score: {lgbm_f1:.3f}\\n'\n",
    "    f'Количество истинно отрицательных результатов: {lgbm_conf_mat[0][0]}\\n'\n",
    "    f'Количество ложноотрицательных результатов: {lgbm_conf_mat[1][0]}\\n'\n",
    "    f'Количество истинно положительных результатов: {lgbm_conf_mat[1][1]}\\n'\n",
    "    f'Количество ложноположительных результатов: {lgbm_conf_mat[0][1]}\\n'\n",
    ")"
   ]
  },
  {
   "cell_type": "markdown",
   "metadata": {
    "pycharm": {
     "name": "#%% md\n"
    }
   },
   "source": [
    "***\n",
    "## Общий вывод\n",
    "- Лучший результат показала модель `Логистическя регрессия`.  \n",
    "    Достигнут целевой порог — F1-score выше 0.75.  \n",
    "    Плюс у этой модели лучшай скорость обучения и предсказания.  \n",
    "    Также у этой модели наименьший показатель ложноотрицательных результатов.  \n",
    "    Для текущей задачи — отправки токсичных комментариев на модерацию — это наиболее существенный показатель.  \n",
    "    Так меньше всего токсичных комментариев по ошибке минует модерацию. <br><br>\n",
    "***"
   ]
  }
 ],
 "metadata": {
  "kernelspec": {
   "display_name": "Python 3 (ipykernel)",
   "language": "python",
   "name": "python3"
  },
  "language_info": {
   "codemirror_mode": {
    "name": "ipython",
    "version": 3
   },
   "file_extension": ".py",
   "mimetype": "text/x-python",
   "name": "python",
   "nbconvert_exporter": "python",
   "pygments_lexer": "ipython3",
   "version": "3.9.5"
  },
  "toc": {
   "base_numbering": 1,
   "nav_menu": {},
   "number_sections": true,
   "sideBar": true,
   "skip_h1_title": true,
   "title_cell": "Содержание",
   "title_sidebar": "Contents",
   "toc_cell": true,
   "toc_position": {
    "height": "calc(100% - 180px)",
    "left": "10px",
    "top": "150px",
    "width": "302.383px"
   },
   "toc_section_display": true,
   "toc_window_display": true
  }
 },
 "nbformat": 4,
 "nbformat_minor": 2
}